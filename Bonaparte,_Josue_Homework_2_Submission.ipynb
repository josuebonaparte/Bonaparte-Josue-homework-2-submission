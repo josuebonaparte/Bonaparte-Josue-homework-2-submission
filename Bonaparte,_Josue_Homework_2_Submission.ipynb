{
  "cells": [
    {
      "cell_type": "markdown",
      "metadata": {
        "id": "view-in-github",
        "colab_type": "text"
      },
      "source": [
        "<a href=\"https://colab.research.google.com/github/josuebonaparte/Bonaparte-Josue-homework-2-submission/blob/master/Bonaparte%2C_Josue_Homework_2_Submission.ipynb\" target=\"_parent\"><img src=\"https://colab.research.google.com/assets/colab-badge.svg\" alt=\"Open In Colab\"/></a>"
      ]
    },
    {
      "cell_type": "markdown",
      "metadata": {
        "id": "ySG-DJPOft09"
      },
      "source": [
        "# Homework 2: Numerical integration\n",
        "**Due Monday, April 18**\n",
        "\n",
        "*Josue Bonaparte*\n",
        "\n",
        "### Homework checklist\n",
        "\n",
        "Before submitting, make sure that you\n",
        "\n",
        "- Fill in your name in the space above\n",
        "- Cite any resources that you used while working on this homework\n",
        "- 1.a. Fill in the code cell to write a function that performs integration using Simpson's rule  \n",
        "- 1.b. Run the code cell to test the function, then comment on the results below  \n",
        "- 2.a. Write your own code to evaluate the Bessel function  \n",
        "- 2.b. Run the code cell to test the function, then comment on the results below  \n",
        "- 2.c. Fill in the code block to evaluate the Bessel functions and plot the results  "
      ]
    },
    {
      "cell_type": "markdown",
      "metadata": {
        "id": "-2LVoz4hft1E"
      },
      "source": [
        "## 1. Integration with Simpson's rule\n",
        "\n",
        "Write a function to perform integration using **Simpson's rule**. The input parameters to the integrator function should be:\n",
        "* A function, $f$\n",
        "* Two real numbers giving the limits of integration\n",
        "* The number of subdivisions $N$ to use for estimating the integral\n",
        "\n",
        "There are many different ways that you could implement integration using Simpson's rule (for example, see Chapter 5 of Newman's *[Computational Physics](http://www-personal.umich.edu/~mejn/cp/chapters.html)*). You are free to choose any approach that you like. If you're already comfortable with Python, you might want to try an implementation that uses numpy arrays and [vectorization](https://realpython.com/numpy-array-programming/)."
      ]
    },
    {
      "cell_type": "markdown",
      "metadata": {
        "id": "m3hOgT78ft1F"
      },
      "source": [
        "### 1.a. Write the integration function\n",
        "\n",
        "Fill in the function outline below. If you're having trouble getting started, try writing out all the individual computations that need to be performed to estimate the integral. Then, code each one of them individually."
      ]
    },
    {
      "cell_type": "code",
      "execution_count": null,
      "metadata": {
        "id": "AKEbONpJft1G",
        "colab": {
          "base_uri": "https://localhost:8080/"
        },
        "outputId": "652bb6fb-13e4-4eb6-a2ea-59d892276e99"
      },
      "outputs": [
        {
          "output_type": "execute_result",
          "data": {
            "text/plain": [
              "927.4879999999914"
            ]
          },
          "metadata": {},
          "execution_count": 114
        }
      ],
      "source": [
        "import numpy as np\n",
        "\n",
        "\n",
        "def g(x):\n",
        "  return x\n",
        "\n",
        "def integrate(f, a, b, n_steps):\n",
        "  \n",
        "  dx = (b - a)/n_steps\n",
        "  x_range=range(1,n_steps+1)\n",
        "  x=a\n",
        "  l=0\n",
        "  for n in x_range:\n",
        "    l=l+(f(x)*dx)\n",
        "    x=x+dx\n",
        "  return l\n",
        "\n",
        "integrate(g, 13, 45, 1000)"
      ]
    },
    {
      "cell_type": "markdown",
      "metadata": {
        "id": "IhvmPqQWft1I"
      },
      "source": [
        "### 1.b. Test the function\n",
        "\n",
        "Test your function in the cell below."
      ]
    },
    {
      "cell_type": "code",
      "execution_count": null,
      "metadata": {
        "id": "3t8zujGift1J",
        "colab": {
          "base_uri": "https://localhost:8080/"
        },
        "outputId": "1f196d3b-4e34-4289-f2df-38b7eba6c07d"
      },
      "outputs": [
        {
          "output_type": "execute_result",
          "data": {
            "text/plain": [
              "91124.69625061216"
            ]
          },
          "metadata": {},
          "execution_count": 110
        }
      ],
      "source": [
        "def test_quad(x):\n",
        "    return 3*x**2\n",
        "\n",
        "integrate(test_quad, 0, 45, 450000)"
      ]
    },
    {
      "cell_type": "markdown",
      "metadata": {
        "id": "6iDjqHLgft1K"
      },
      "source": [
        "Compare your output with the analytical result here. Does it perform as expected?"
      ]
    },
    {
      "cell_type": "code",
      "execution_count": null,
      "metadata": {
        "id": "trWmW3VBft1L",
        "colab": {
          "base_uri": "https://localhost:8080/"
        },
        "outputId": "77d19cb0-d9f0-45b1-c83b-b779e8edfab8"
      },
      "outputs": [
        {
          "output_type": "execute_result",
          "data": {
            "text/plain": [
              "0.303749387836433"
            ]
          },
          "metadata": {},
          "execution_count": 112
        }
      ],
      "source": [
        "(45**3-0**3)-integrate(test_quad,0,45,450000)\n",
        "#it performs as expected but it is not accurate at anything lower than about 1000 steps"
      ]
    },
    {
      "cell_type": "markdown",
      "metadata": {
        "id": "5CpRFCc0ft1M"
      },
      "source": [
        "## 2. Application: diffraction patterns generated by a circular aperture\n",
        "\n",
        "When might we need to perform numerical integration? Here is one example from Exercise 5.4 in Newman's [Computational Physics](http://www-personal.umich.edu/~mejn/cp/chapters.html) textbook.\n",
        "\n",
        "When light with wavelength $\\lambda$ passes through a circular aperture, as in a telescope, it doesn't produce just a single point of light in the focal plane. Rather, the light is *diffracted*, producing a central bright spot surrounded by alternating bright and dark rings. Mathematically, the intensity of the focused light is given by\n",
        "\n",
        "$$I(r) = \\frac{J_1(kr)}{kr}^2\\,,$$\n",
        "\n",
        "where $r$ is the distance from the center of the focal plane, $k = 2\\pi/\\lambda$, and $J_1$ is the order 1 [Bessel function](https://en.wikipedia.org/wiki/Bessel_function) of the first kind. For more information, follow the Wikipedia link. Bessel functions appear very frequently in physics.\n",
        "\n",
        "One way to define the Bessel functions $J_m$ is through an integral,\n",
        "\n",
        "$$ J_m(x) = \\frac{1}{\\pi}\\int_0^\\pi\\!d\\theta\\; \\cos(m\\theta - x \\sin \\theta) \\, $$ \n",
        "\n",
        "where $m$ is a nonnegative integer and $x\\geq 0$. \n",
        "\n",
        "In the rest of the exercise below, we'll write a function to evaluate the Bessel function using our integrator defined in part 1. Then we'll test it and plot the results."
      ]
    },
    {
      "cell_type": "markdown",
      "metadata": {
        "id": "Wx58zbXVft1O"
      },
      "source": [
        "### 2.a. Write the Bessel function\n",
        "\n",
        "Write your own version of the Bessel function by filling in the cell below. We'll assume that the number of divisions is 1000."
      ]
    },
    {
      "cell_type": "code",
      "execution_count": null,
      "metadata": {
        "id": "Rop0Ndyeft1O"
      },
      "outputs": [],
      "source": [
        "def J(m, x):\n",
        "   \n",
        "    def integrand(theta):\n",
        "      def h(q):\n",
        "        return np.cos(m*q-x*np.sin(q))\n",
        "      i = integrate(h,0,theta,1000)\n",
        "      return i\n",
        "\n",
        "    l=(1/np.pi)*integrand(np.pi)\n",
        "\n",
        "    return l"
      ]
    },
    {
      "cell_type": "markdown",
      "metadata": {
        "id": "deLxBOcFft1P"
      },
      "source": [
        "### 2.b. Test the function\n",
        "\n",
        "Now, test your function in the cell below."
      ]
    },
    {
      "cell_type": "code",
      "execution_count": null,
      "metadata": {
        "id": "y-bBKiUpft1Q",
        "colab": {
          "base_uri": "https://localhost:8080/"
        },
        "outputId": "74e1a8c4-6567-4666-f2ad-1c9faeaa84dc"
      },
      "outputs": [
        {
          "output_type": "stream",
          "name": "stdout",
          "text": [
            "0.44105058574493866\n"
          ]
        }
      ],
      "source": [
        "print(J(1,1))"
      ]
    },
    {
      "cell_type": "markdown",
      "metadata": {
        "id": "i2uJL3Bkft1Q"
      },
      "source": [
        "How does this compare with the expected result? Let's check our answer against the builtin Bessel function evaluator in `scipy`."
      ]
    },
    {
      "cell_type": "code",
      "execution_count": null,
      "metadata": {
        "id": "4PGGXrIDft1R",
        "colab": {
          "base_uri": "https://localhost:8080/"
        },
        "outputId": "838ce699-7e08-4ef1-c869-5caff493522d"
      },
      "outputs": [
        {
          "output_type": "stream",
          "name": "stdout",
          "text": [
            "0.001000000000005108\n"
          ]
        }
      ],
      "source": [
        "import scipy.special as sp\n",
        "\n",
        "print(J(1,1) - sp.jv(1, 1))"
      ]
    },
    {
      "cell_type": "markdown",
      "source": [
        "As shown the Bessel function manual integration code seems to have an error of 0.001 which means the Bessel function solution ratio to the error is around 441:1"
      ],
      "metadata": {
        "id": "sdlBTb0vgkwQ"
      }
    },
    {
      "cell_type": "markdown",
      "metadata": {
        "id": "gjKCfNIXft1R"
      },
      "source": [
        "### An aside \n",
        "\n",
        "Why are we implementing our own method to evaluate the Bessel function when another one already exists? As you might have guessed, this is just for practice, and practice works best when there are well-established results that you can compare with. \n",
        "\n",
        "In your own computational adventures, the first step in any problem is to **check whether someone else has already solved it first**. If a solution exists, it will almost always be better to use the existing software and build on top of it, rather than \"reinventing the wheel.\" Why? Consider the frenzied activity in the [numpy repository](https://github.com/numpy/numpy) on GitHub. Hundreds of people are working to ensure that numpy is fast and accurate. This is not a situation where a team of 1 can compete.\n",
        "\n",
        "However, in research or industry we may encounter niche problems that have not yet been solved, or where standard techniques fail. In these cases we may indeed need to start from the beginning."
      ]
    },
    {
      "cell_type": "markdown",
      "metadata": {
        "id": "k16H60ZBft1S"
      },
      "source": [
        "### 2.c. Plot the Bessel function(s)\n",
        "\n",
        "Now, let's use our function `J(m, x)` to plot three different Bessel functions, $J_0(x)$, $J_1(x)$ and $J_2(x)$. Your job is to fill in the following code to produce these plots. The outline below uses `seaborn`, but you're also welcome to use `matplotlib` directly if you'd like.\n",
        "\n",
        "*Hint*: You can check your answers by consulting [Wikipedia](https://en.wikipedia.org/wiki/Bessel_function).\n",
        "\n",
        "*Hint*$^2$: Your function for evaluating the Bessel functions might take a little bit of time. You can potentially make it faster, and easier to use, with the `numpy.vectorize` function. For more information, look [here](https://docs.scipy.org/doc/numpy-1.15.0/reference/generated/numpy.vectorize.html). If you vectorize `J(m, x)` then it will be able to operate on entire numpy arrays at once."
      ]
    },
    {
      "cell_type": "code",
      "execution_count": null,
      "metadata": {
        "id": "N5yZd5DZft1S",
        "colab": {
          "base_uri": "https://localhost:8080/",
          "height": 265
        },
        "outputId": "79c871af-bc7e-4a06-c27c-e54a19c243c6"
      },
      "outputs": [
        {
          "output_type": "display_data",
          "data": {
            "text/plain": [
              "<Figure size 432x288 with 1 Axes>"
            ],
            "image/png": "[encoded data removed]"
          },
          "metadata": {
            "needs_background": "light"
          }
        }
      ],
      "source": [
        "import seaborn as sns\n",
        "import numpy as np\n",
        "import matplotlib.pyplot as plt\n",
        "\n",
        "# x sample points\n",
        "x = np.linspace(0, 20, 200)\n",
        "\n",
        "y0 = J(0,x)\n",
        "y1 = J(1,x)\n",
        "y2 = J(2,x)\n",
        "\n",
        "sns.lineplot(x=x, y=y0, label='$J_0(x)$')\n",
        "\n",
        "sns.lineplot(x=x, y=y1, label='$J_1(x)$')\n",
        "\n",
        "sns.lineplot(x=x, y=y2, label='$J_2(x)$')\n",
        "\n",
        "plt.show()"
      ]
    },
    {
      "cell_type": "markdown",
      "source": [
        "## References\n",
        "1. Integration with Simpson's rule\n",
        "\n",
        "*   Base Simpson's rule process: lecture-6-post.ipynb\n",
        "*   for satisfying the for loop: https://www.w3schools.com/python/ref_func_range.asp\n",
        "*   for answer checking: https://www.integral-calculator.com/\n",
        "\n",
        "\\\\\n",
        "\n",
        "\n",
        "2. Application: diffraction patterns generated by a circular aperture\n",
        "\n",
        "*   for checking Bessel function plot solution: https://en.wikipedia.org/wiki/Bessel_function\n",
        "\n",
        "*   for an annoying but ultimately harmless error solved by \"plt.show()\":  https://stackoverflow.com/questions/41898485/pandas-dataframe-error-matplotlib-axes-subplots-axessubplot"
      ],
      "metadata": {
        "id": "OVItyFqZtIJP"
      }
    }
  ],
  "metadata": {
    "kernelspec": {
      "display_name": "Python 3 (ipykernel)",
      "language": "python",
      "name": "python3"
    },
    "language_info": {
      "codemirror_mode": {
        "name": "ipython",
        "version": 3
      },
      "file_extension": ".py",
      "mimetype": "text/x-python",
      "name": "python",
      "nbconvert_exporter": "python",
      "pygments_lexer": "ipython3",
      "version": "3.9.12"
    },
    "colab": {
      "name": "Bonaparte, Josue Homework 2 Submission.ipynb",
      "provenance": [],
      "include_colab_link": true
    }
  },
  "nbformat": 4,
  "nbformat_minor": 0
}